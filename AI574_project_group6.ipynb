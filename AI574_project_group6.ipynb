{
 "cells": [
  {
   "cell_type": "code",
   "execution_count": 1,
   "id": "e1538ac8-dba6-4a43-a08c-f82fcc432f66",
   "metadata": {},
   "outputs": [
    {
     "name": "stdout",
     "output_type": "stream",
     "text": [
      "time: 135 µs (started: 2023-11-28 22:14:36 -05:00)\n"
     ]
    }
   ],
   "source": [
    "%load_ext autotime"
   ]
  },
  {
   "cell_type": "markdown",
   "id": "3a961034-7c25-4aab-b914-0a88216f69c1",
   "metadata": {},
   "source": [
    "# Import Modules - AI574 Module is specific to this project"
   ]
  },
  {
   "cell_type": "code",
   "execution_count": 2,
   "id": "503d6cc4-1b10-4187-b350-baa735b34c6b",
   "metadata": {
    "tags": []
   },
   "outputs": [
    {
     "name": "stderr",
     "output_type": "stream",
     "text": [
      "2023-11-28 22:14:36.975188: E tensorflow/compiler/xla/stream_executor/cuda/cuda_dnn.cc:9342] Unable to register cuDNN factory: Attempting to register factory for plugin cuDNN when one has already been registered\n",
      "2023-11-28 22:14:36.975216: E tensorflow/compiler/xla/stream_executor/cuda/cuda_fft.cc:609] Unable to register cuFFT factory: Attempting to register factory for plugin cuFFT when one has already been registered\n",
      "2023-11-28 22:14:36.975241: E tensorflow/compiler/xla/stream_executor/cuda/cuda_blas.cc:1518] Unable to register cuBLAS factory: Attempting to register factory for plugin cuBLAS when one has already been registered\n",
      "2023-11-28 22:14:36.981530: I tensorflow/core/platform/cpu_feature_guard.cc:182] This TensorFlow binary is optimized to use available CPU instructions in performance-critical operations.\n",
      "To enable the following instructions: AVX2 FMA, in other operations, rebuild TensorFlow with the appropriate compiler flags.\n",
      "2023-11-28 22:14:37.812532: W tensorflow/compiler/tf2tensorrt/utils/py_utils.cc:38] TF-TRT Warning: Could not find TensorRT\n",
      "2023-11-28 22:14:39.798069: E tensorflow/compiler/xla/stream_executor/cuda/cuda_driver.cc:268] failed call to cuInit: CUDA_ERROR_NO_DEVICE: no CUDA-capable device is detected\n",
      "2023-11-28 22:14:39.798093: I tensorflow/compiler/xla/stream_executor/cuda/cuda_diagnostics.cc:168] retrieving CUDA diagnostic information for host: daniel-desktop\n",
      "2023-11-28 22:14:39.798098: I tensorflow/compiler/xla/stream_executor/cuda/cuda_diagnostics.cc:175] hostname: daniel-desktop\n",
      "2023-11-28 22:14:39.798165: I tensorflow/compiler/xla/stream_executor/cuda/cuda_diagnostics.cc:199] libcuda reported version is: 520.61.5\n",
      "2023-11-28 22:14:39.798180: I tensorflow/compiler/xla/stream_executor/cuda/cuda_diagnostics.cc:203] kernel reported version is: 520.61.5\n",
      "2023-11-28 22:14:39.798184: I tensorflow/compiler/xla/stream_executor/cuda/cuda_diagnostics.cc:309] kernel version seems to match DSO: 520.61.5\n",
      "/home/daniel/miniconda3/lib/python3.10/site-packages/tqdm/auto.py:22: TqdmWarning: IProgress not found. Please update jupyter and ipywidgets. See https://ipywidgets.readthedocs.io/en/stable/user_install.html\n",
      "  from .autonotebook import tqdm as notebook_tqdm\n"
     ]
    },
    {
     "name": "stdout",
     "output_type": "stream",
     "text": [
      "INFO:tensorflow:Using MirroredStrategy with devices ('/job:localhost/replica:0/task:0/device:CPU:0',)\n",
      "time: 4.46 s (started: 2023-11-28 22:14:36 -05:00)\n"
     ]
    }
   ],
   "source": [
    "import os\n",
    "os.environ[\"CUDA_VISIBLE_DEVICES\"]=\"-1\" # Comment this out to run on GPU but CTC model may not save appropriately if trained on GPU\n",
    "import tensorflow as tf\n",
    "# tf.load_library(\"/etc/alternatives/libcudnn_so\")\n",
    "import re\n",
    "import requests\n",
    "import zipfile\n",
    "import pandas as pd\n",
    "import numpy as np\n",
    "from sklearn.metrics import f1_score\n",
    "import random\n",
    "random.seed(123)\n",
    "\n",
    "import AI574Project\n",
    "from AI574Project import *\n"
   ]
  },
  {
   "cell_type": "markdown",
   "id": "9baa09d6-cfdf-4847-b849-6b994290e60d",
   "metadata": {},
   "source": [
    "# Establish NER Capabilities\n",
    "\n",
    "### Three methods are explored:\n",
    "1) Statistical\n",
    "2) Deep Learning - Leverages ConLL data\n",
    "3) Industry Benchmark - Leverages SpACY module"
   ]
  },
  {
   "cell_type": "markdown",
   "id": "b2c9645b-42ae-4a15-8060-ad41bdf4ea01",
   "metadata": {},
   "source": [
    "1) Statistical"
   ]
  },
  {
   "cell_type": "code",
   "execution_count": 3,
   "id": "9bf3c32f-d120-446f-abd1-3b0fd51cce49",
   "metadata": {},
   "outputs": [
    {
     "name": "stdout",
     "output_type": "stream",
     "text": [
      "time: 1.58 s (started: 2023-11-28 22:14:41 -05:00)\n"
     ]
    }
   ],
   "source": [
    "quote_indicator = AI574Project.QuotationIndicator()\n",
    "StatisticalNameData = AI574Project.StatisticalNameData()\n",
    "\n",
    "ssa_data_dir = './data/ssa_names'\n",
    "unique_names_list, pronouns, person_titles = StatisticalNameData.create_common_name_dataset(ssa_data_dir)\n",
    "unique_names_list = StatisticalNameData.append_known_names(AI574Project.hobbit_characters)"
   ]
  },
  {
   "cell_type": "markdown",
   "id": "2e3e060b-d065-40e7-a596-79301a2c255c",
   "metadata": {},
   "source": [
    "2) Deep Learning"
   ]
  },
  {
   "cell_type": "code",
   "execution_count": 4,
   "id": "a0a7616e-a816-4b52-bd29-34d6550e2d2c",
   "metadata": {},
   "outputs": [
    {
     "name": "stdout",
     "output_type": "stream",
     "text": [
      "Importing preloaded training and validation data\n",
      "File /media/daniel/HDD1/AI574/Project/vocabulary.txt exists. Overwriting existing file.\n",
      "time: 468 ms (started: 2023-11-28 22:14:42 -05:00)\n"
     ]
    }
   ],
   "source": [
    "ner_data_importer = AI574Project.ImportNERData(source=\"existing\") # use source = conll to update with conll data\n",
    "train_dataset, val_dataset, lookup_layer = ner_data_importer.import_data()"
   ]
  },
  {
   "cell_type": "code",
   "execution_count": 5,
   "id": "a2307def-ce94-4fbd-af07-6d47c2575ff5",
   "metadata": {},
   "outputs": [
    {
     "name": "stdout",
     "output_type": "stream",
     "text": [
      "time: 633 µs (started: 2023-11-28 22:14:43 -05:00)\n"
     ]
    }
   ],
   "source": [
    "train = \"N\"\n",
    "if train == \"Y\":\n",
    "    train_ner_model = TrainNERNamePrediction()\n",
    "    train_ner_model.build_model()\n",
    "    train_ner_model.compile_model()\n",
    "    ner_history = train_ner_model.train(train_data=train_dataset,\n",
    "                                val_data = val_dataset,\n",
    "                                epochs=50, batch_size=256) \n",
    "    train_ner_model.save_model('NER_saved_recent')\n",
    "    AI574Project.plot_training_charts(ner_history) "
   ]
  },
  {
   "cell_type": "code",
   "execution_count": 6,
   "id": "4b7c6c09-b735-4f2a-8ea5-edf5170401c3",
   "metadata": {},
   "outputs": [
    {
     "name": "stdout",
     "output_type": "stream",
     "text": [
      "time: 4.01 s (started: 2023-11-28 22:14:43 -05:00)\n"
     ]
    }
   ],
   "source": [
    "ner_model = tf.keras.models.load_model('NER_saved_recent', custom_objects={'NERNonPaddingTokenLoss': NERNonPaddingTokenLoss})"
   ]
  },
  {
   "cell_type": "markdown",
   "id": "a7d1fa03-cb65-422a-82f9-a58b9e587a57",
   "metadata": {},
   "source": [
    "# Evaluate Performance of Competing NER Methods"
   ]
  },
  {
   "cell_type": "code",
   "execution_count": 7,
   "id": "3f4c7627-4dcd-4596-91f9-7d728b71fee7",
   "metadata": {
    "tags": []
   },
   "outputs": [
    {
     "name": "stdout",
     "output_type": "stream",
     "text": [
      "time: 805 µs (started: 2023-11-28 22:14:47 -05:00)\n"
     ]
    }
   ],
   "source": [
    "def lowercase_and_convert_to_ids(tokens):\n",
    "    tokens = tf.strings.lower(tokens)\n",
    "    return lookup_layer(tokens)\n",
    "def tokenize_and_convert_to_ids(text):\n",
    "    tokens = text.split()\n",
    "    return lowercase_and_convert_to_ids(tokens)\n",
    "def string_prediction_w_spacy(text):\n",
    "    text_nlp = nlp(text)\n",
    "    ner_tagged = [word.ent_type_ for word in text_nlp]\n",
    "    ner_tagged = [1 if word_type == \"PERSON\" else 0 for word_type in ner_tagged]\n",
    "    return ner_tagged\n",
    "def calculate_f1_score(combined_paired_list):\n",
    "    true_positives = 0\n",
    "    false_positives = 0\n",
    "    false_negatives = 0\n",
    "    for pair in combined_paired_list:\n",
    "        if pair == (1, 1):\n",
    "            true_positives += 1\n",
    "        elif pair == (1, 0):\n",
    "            false_positives += 1\n",
    "        elif pair == (0, 1):\n",
    "            false_negatives += 1\n",
    "    precision = true_positives / (true_positives + false_positives) if (true_positives + false_positives) > 0 else 0\n",
    "    recall = true_positives / (true_positives + false_negatives) if (true_positives + false_negatives) > 0 else 0\n",
    "    f1_score = 2 * (precision * recall) / (precision + recall) if (precision + recall) > 0 else 0\n",
    "    return f1_score"
   ]
  },
  {
   "cell_type": "code",
   "execution_count": 8,
   "id": "1971e9bd-cf84-456e-af09-87161edbadc4",
   "metadata": {
    "tags": []
   },
   "outputs": [
    {
     "name": "stdout",
     "output_type": "stream",
     "text": [
      "time: 7.33 ms (started: 2023-11-28 22:14:47 -05:00)\n"
     ]
    }
   ],
   "source": [
    "eval_ner = \"N\"\n",
    "if eval_ner == \"Y\":\n",
    "    conll_validation_file_path = \"./data/val.txt\"\n",
    "    spacy_scored = []\n",
    "    stat_scored = []\n",
    "    dl_scored = []\n",
    "    i = 0\n",
    "    with open(conll_validation_file_path, 'r') as file:\n",
    "        for line in file:\n",
    "            i += 1\n",
    "            line = line.split(\"\\t\")\n",
    "            length = int(line[0])\n",
    "            tags = line[length + 1 :]\n",
    "            cleaned_tags = [int(item.strip()) for item in tags]\n",
    "            string = line[1 : length + 1]\n",
    "\n",
    "            spacy_prediction = string_prediction_w_spacy(' '.join(string))\n",
    "            spacy_prediction_pair = list(zip(spacy_prediction, cleaned_tags))\n",
    "            spacy_scored.append(spacy_prediction_pair)\n",
    "\n",
    "            _, stat_prediction = StatisticalNameData.ner_process_line(string, is_list=True)\n",
    "            stat_prediction = [int(item.strip()) for item in stat_prediction]\n",
    "            stat_prediction_pair = list(zip(stat_prediction, cleaned_tags))\n",
    "            stat_scored.append(stat_prediction_pair)\n",
    "\n",
    "            dl_string_input = lowercase_and_convert_to_ids(string)\n",
    "            dl_string_input = tf.reshape(dl_string_input, shape=[1, -1])\n",
    "            dl_output = ner_model.predict(dl_string_input, verbose=0)\n",
    "            dl_prediction = np.argmax(dl_output, axis=-1)[0]\n",
    "            dl_prediction = [item - 1 for item in dl_prediction]\n",
    "            dl_prediction_pair =  list(zip(dl_prediction, cleaned_tags))\n",
    "            dl_scored.append(dl_prediction_pair)\n",
    "\n",
    "        combined_spacy_list = [element for sublist in spacy_scored for element in sublist]\n",
    "        combined_stat_list = [element for sublist in stat_scored for element in sublist]\n",
    "        combined_dl_list = [element for sublist in dl_scored for element in sublist]\n",
    "\n",
    "    spacy_f1_score = calculate_f1_score(combined_spacy_list)\n",
    "    stat_f1_score = calculate_f1_score(combined_stat_list)\n",
    "    deep_learning_f1_score = calculate_f1_score(combined_dl_list)\n",
    "    \n",
    "    print(\"Spacy NER F1 Scores: \",spacy_f1_score)\n",
    "    print(\"Statistical SSA NER F1 Scores: \",stat_f1_score)\n",
    "    print(\"Deep Learning conll F1 Scores: \",deep_learning_f1_score)    \n"
   ]
  },
  {
   "cell_type": "markdown",
   "id": "44e98d7a-1b19-43d8-85c5-71c4460736f2",
   "metadata": {},
   "source": [
    "# Establish CTC Capabilities\n",
    "\n",
    "### Two methods are explored:\n",
    "1) Statistical / Pseudo-random (ie. - recently mentioned character selected at random with forced narrator)\n",
    "2) Deep Learning"
   ]
  },
  {
   "cell_type": "code",
   "execution_count": 9,
   "id": "fe09b1ad-0b2e-438d-b9b4-655736a608ce",
   "metadata": {},
   "outputs": [
    {
     "name": "stdout",
     "output_type": "stream",
     "text": [
      "time: 2.99 ms (started: 2023-11-28 22:14:47 -05:00)\n"
     ]
    }
   ],
   "source": [
    "CTCSetup = AI574Project.CTCSetup()"
   ]
  },
  {
   "cell_type": "markdown",
   "id": "1f38e76d-2ffa-4a5e-9f97-7062f3c795c1",
   "metadata": {},
   "source": [
    "### Setting up the data environment"
   ]
  },
  {
   "cell_type": "code",
   "execution_count": 10,
   "id": "ed8c5963-690a-4ca8-9c0a-f4af4b9ccba9",
   "metadata": {
    "tags": []
   },
   "outputs": [
    {
     "name": "stdout",
     "output_type": "stream",
     "text": [
      "Processed 0 files with 0 errors.\n",
      "time: 6.05 s (started: 2023-11-28 22:14:47 -05:00)\n"
     ]
    }
   ],
   "source": [
    "selected_works_path = './selected_works_for_ctc.csv'\n",
    "line_chunk_size = 600\n",
    "txt_all = ''\n",
    "problem_files = []\n",
    "\n",
    "orig_text = []\n",
    "tokenized_text = []\n",
    "quotation_indicators = [] \n",
    "mentions = [] \n",
    "mention_tokens = [] \n",
    "one_hot_mentions = [] \n",
    "speaker = [] \n",
    "name_to_token = []\n",
    "\n",
    "with open(selected_works_path, mode='r', newline='') as file:\n",
    "    csv_reader = csv.reader(file)\n",
    "    for i, row in enumerate(csv_reader):\n",
    "        if i % 500 == 1:\n",
    "            print(i)\n",
    "        target_path = os.path.join('./data/input_to_ctc',row[0]+'_input_to_ctc.txt')\n",
    "        lines_as_strings = []\n",
    "        CTCSetup.name_to_token = {} # reset name to token mapping for each book\n",
    "        with open(target_path, mode='r', newline='') as file:\n",
    "            lines = file.readlines()\n",
    "\n",
    "        file_orig_text, file_tokenized_text, file_quotation_indicators, file_mentions, file_mention_tokens, file_one_hot_mentions, file_speaker, file_name_to_token = CTCSetup.process_text(data=lines[0])\n",
    "        \n",
    "        orig_text = orig_text + file_orig_text\n",
    "        tokenized_text = tokenized_text + file_tokenized_text\n",
    "        quotation_indicators = quotation_indicators + file_quotation_indicators\n",
    "        mentions = mentions + file_mentions\n",
    "        mention_tokens = mention_tokens + file_mention_tokens\n",
    "        one_hot_mentions = one_hot_mentions + file_one_hot_mentions\n",
    "        speaker = speaker + file_speaker\n",
    "        name_to_token.append(file_name_to_token)\n",
    "\n",
    "print(f\"Processed {i} files with {len(problem_files)} errors.\")"
   ]
  },
  {
   "cell_type": "code",
   "execution_count": 11,
   "id": "0ca8901c-0799-4c37-be8c-37581e6c4dda",
   "metadata": {
    "tags": []
   },
   "outputs": [
    {
     "name": "stdout",
     "output_type": "stream",
     "text": [
      "There are 274 total scored records and 205 of them will be used for training leaving 69 for validation\n",
      "time: 462 µs (started: 2023-11-28 22:14:53 -05:00)\n"
     ]
    }
   ],
   "source": [
    "# Upload a scored dataset for CTC training using Chapter 1 of The Hobbit\n",
    "scored_speaker = [name_to_token[0][name] for name in AI574Project.hobbit_chap1_scored if name in name_to_token[0]]\n",
    "score_length = len(scored_speaker)\n",
    "train_cutoff = int(score_length*0.75)\n",
    "print(f\"There are {score_length} total scored records and {train_cutoff} of them will be used for training leaving {score_length-train_cutoff} for validation\")"
   ]
  },
  {
   "cell_type": "code",
   "execution_count": 12,
   "id": "95b8d97d-c1e7-4d52-82a9-f4be59795419",
   "metadata": {
    "tags": []
   },
   "outputs": [
    {
     "name": "stdout",
     "output_type": "stream",
     "text": [
      "Pseudo-random F1 Score based on 42 observations that were not marked as quotations\n",
      "time: 7.69 ms (started: 2023-11-28 22:14:53 -05:00)\n"
     ]
    }
   ],
   "source": [
    "random_speaker_zipped = list(zip(scored_speaker[train_cutoff-1:], speaker[train_cutoff:score_length], quotation_indicators[train_cutoff:score_length]))\n",
    "filtered_random_speaker_zipped = [pred for pred in random_speaker_zipped if pred[2] != '0']\n",
    "print(f\"Pseudo-random F1 Score based on {len(filtered_random_speaker_zipped)} observations that were not marked as quotations\")\n",
    "filtered_scored_speaker, filtered_random_speaker, _ = zip(*filtered_random_speaker_zipped)"
   ]
  },
  {
   "cell_type": "code",
   "execution_count": 13,
   "id": "2426eae4-96e0-4812-b8b1-d0a121b0cd38",
   "metadata": {
    "tags": []
   },
   "outputs": [
    {
     "name": "stdout",
     "output_type": "stream",
     "text": [
      "Pseudo-random weighted F1 score:  0.4355514563548998\n",
      "time: 6.28 ms (started: 2023-11-28 22:14:53 -05:00)\n"
     ]
    }
   ],
   "source": [
    "weighted_f1 = f1_score(filtered_scored_speaker, filtered_random_speaker, average='weighted')\n",
    "print(\"Pseudo-random weighted F1 score: \",weighted_f1)"
   ]
  },
  {
   "cell_type": "code",
   "execution_count": 14,
   "id": "6e9c57e6-d141-4e83-a0c0-ce09402aacbd",
   "metadata": {
    "tags": []
   },
   "outputs": [
    {
     "name": "stdout",
     "output_type": "stream",
     "text": [
      "time: 14.9 ms (started: 2023-11-28 22:14:53 -05:00)\n"
     ]
    }
   ],
   "source": [
    "train_tokenized_text = np.array([x['input_ids'] for x in tokenized_text[:train_cutoff]])\n",
    "train_mention_one_hot = one_hot_mentions[:train_cutoff]\n",
    "train_array = np.concatenate([train_mention_one_hot, train_tokenized_text], axis=-1)\n",
    "train_mention_tokens = [x['input_ids'] for x in mention_tokens[:train_cutoff]]\n",
    "train_speaker = scored_speaker[:train_cutoff]\n",
    "\n",
    "validate_tokenized_text = [x['input_ids'] for x in tokenized_text[train_cutoff:score_length]]\n",
    "validate_mention_one_hot = one_hot_mentions[train_cutoff:score_length]\n",
    "validate_array = np.concatenate([validate_mention_one_hot, validate_tokenized_text], axis=-1)\n",
    "validate_mention_tokens = [x['input_ids'] for x in mention_tokens[train_cutoff:score_length]]\n",
    "validate_speaker = scored_speaker[train_cutoff:score_length]\n",
    "\n",
    "test_tokenized_text = [x['input_ids'] for x in tokenized_text[score_length:350]]\n",
    "test_mention_one_hot = one_hot_mentions[score_length:350]\n",
    "test_inputs = tf.constant(np.concatenate([test_mention_one_hot, test_tokenized_text], axis=-1), dtype=tf.float32)\n",
    "\n",
    "test_mention_tokens = [x['input_ids'] for x in mention_tokens[score_length:]]\n"
   ]
  },
  {
   "cell_type": "code",
   "execution_count": 15,
   "id": "80f04eb1-7106-47b5-bffb-3dd220436c48",
   "metadata": {
    "tags": []
   },
   "outputs": [
    {
     "name": "stdout",
     "output_type": "stream",
     "text": [
      "(205, 562)\n",
      "(69, 562)\n",
      "(76, 562)\n",
      "time: 266 µs (started: 2023-11-28 22:14:53 -05:00)\n"
     ]
    }
   ],
   "source": [
    "print(train_array.shape)\n",
    "print(validate_array.shape)\n",
    "print(test_inputs.shape)"
   ]
  },
  {
   "cell_type": "code",
   "execution_count": 16,
   "id": "a4d916ac-4b57-4236-8f66-668de34aef64",
   "metadata": {
    "tags": []
   },
   "outputs": [
    {
     "name": "stdout",
     "output_type": "stream",
     "text": [
      "<_BatchDataset element_spec=(TensorSpec(shape=(None, 562), dtype=tf.float32, name=None), TensorSpec(shape=(None,), dtype=tf.float32, name=None))>\n",
      "<_BatchDataset element_spec=(TensorSpec(shape=(None, 562), dtype=tf.float32, name=None), TensorSpec(shape=(None,), dtype=tf.float32, name=None))>\n",
      "<_BatchDataset element_spec=TensorSpec(shape=(None, 562), dtype=tf.float32, name=None)>\n",
      "time: 8.65 ms (started: 2023-11-28 22:14:53 -05:00)\n"
     ]
    }
   ],
   "source": [
    "batch_size = 1\n",
    "\n",
    "def map_record_to_training_data(features, labels):\n",
    "    features_mapped = tf.constant(features, dtype=tf.float32)\n",
    "    labels_mapped = tf.constant(labels, dtype=tf.float32)\n",
    "    return features_mapped, labels_mapped\n",
    "\n",
    "train_inputs, train_targets = map_record_to_training_data(train_array, train_speaker)\n",
    "val_inputs, val_targets = map_record_to_training_data(validate_array, validate_speaker)\n",
    "\n",
    "# Create datasets\n",
    "train_dataset_inputs = tf.data.Dataset.from_tensor_slices(train_inputs)\n",
    "train_dataset_targets = tf.data.Dataset.from_tensor_slices(train_targets)\n",
    "val_dataset_inputs = tf.data.Dataset.from_tensor_slices(val_inputs)\n",
    "val_dataset_targets = tf.data.Dataset.from_tensor_slices(val_targets)\n",
    "test_dataset_inputs = tf.data.Dataset.from_tensor_slices(test_inputs).batch(batch_size)\n",
    "\n",
    "# Combine input and target datasets\n",
    "train_dataset = tf.data.Dataset.zip((train_dataset_inputs, train_dataset_targets)).batch(batch_size)\n",
    "val_dataset = tf.data.Dataset.zip((val_dataset_inputs, val_dataset_targets)).batch(batch_size)\n",
    "\n",
    "print(train_dataset)\n",
    "print(val_dataset)\n",
    "print(test_dataset_inputs)"
   ]
  },
  {
   "cell_type": "code",
   "execution_count": 17,
   "id": "9ee2a3e7-e20b-43fb-8f50-ab548729a591",
   "metadata": {
    "tags": []
   },
   "outputs": [
    {
     "name": "stdout",
     "output_type": "stream",
     "text": [
      "Epoch 1/8\n",
      "205/205 [==============================] - 31s 133ms/step - loss: 2.4126 - accuracy: 0.4049 - val_loss: 1.7664 - val_accuracy: 0.3913\n",
      "Epoch 2/8\n",
      "205/205 [==============================] - 27s 129ms/step - loss: 1.7551 - accuracy: 0.4488 - val_loss: 1.6771 - val_accuracy: 0.3913\n",
      "Epoch 3/8\n",
      "205/205 [==============================] - 27s 131ms/step - loss: 1.6388 - accuracy: 0.4537 - val_loss: 1.6595 - val_accuracy: 0.3913\n",
      "Epoch 4/8\n",
      "205/205 [==============================] - 27s 134ms/step - loss: 1.5159 - accuracy: 0.4878 - val_loss: 1.6992 - val_accuracy: 0.4638\n",
      "Epoch 5/8\n",
      "205/205 [==============================] - 29s 141ms/step - loss: 1.3057 - accuracy: 0.5854 - val_loss: 1.7548 - val_accuracy: 0.3913\n",
      "Epoch 6/8\n",
      "205/205 [==============================] - 28s 138ms/step - loss: 1.2492 - accuracy: 0.5805 - val_loss: 1.7391 - val_accuracy: 0.3188\n",
      "Epoch 7/8\n",
      "205/205 [==============================] - 27s 134ms/step - loss: 1.2153 - accuracy: 0.6098 - val_loss: 1.7862 - val_accuracy: 0.2754\n",
      "Epoch 8/8\n",
      "205/205 [==============================] - 28s 135ms/step - loss: 1.0143 - accuracy: 0.6537 - val_loss: 1.8813 - val_accuracy: 0.3043\n",
      "INFO:tensorflow:Assets written to: CTC_saved_recent/assets\n"
     ]
    },
    {
     "name": "stderr",
     "output_type": "stream",
     "text": [
      "INFO:tensorflow:Assets written to: CTC_saved_recent/assets\n"
     ]
    },
    {
     "data": {
      "image/png": "[encoded data removed]",
      "text/plain": [
       "<Figure size 1400x500 with 2 Axes>"
      ]
     },
     "metadata": {},
     "output_type": "display_data"
    },
    {
     "name": "stdout",
     "output_type": "stream",
     "text": [
      "time: 3min 53s (started: 2023-11-28 22:14:53 -05:00)\n"
     ]
    }
   ],
   "source": [
    "train = 'Y'\n",
    "if train == 'Y':\n",
    "    \n",
    "    TrainCTC = TrainCTCSpeakerPrediction(input_shape=train_array.shape[1])\n",
    "    TrainCTC.build_model()\n",
    "    TrainCTC.compile_model()\n",
    "    ctc_history = TrainCTC.train(train_data=train_dataset,\n",
    "                                val_data = val_dataset,\n",
    "                                epochs=8, batch_size=1)\n",
    "    TrainCTC.save_model('CTC_saved_recent')    \n",
    "\n",
    "    AI574Project.plot_training_charts(ctc_history)"
   ]
  },
  {
   "cell_type": "code",
   "execution_count": 18,
   "id": "f1546279-4f50-4dd5-98cd-e6dec0f2eb76",
   "metadata": {
    "tags": []
   },
   "outputs": [
    {
     "name": "stdout",
     "output_type": "stream",
     "text": [
      "time: 3.26 s (started: 2023-11-28 22:18:46 -05:00)\n"
     ]
    }
   ],
   "source": [
    "ctc_model = tf.keras.models.load_model('CTC_saved_recent')"
   ]
  },
  {
   "cell_type": "code",
   "execution_count": 19,
   "id": "d9429372-b3aa-44d5-817d-58fb93e95543",
   "metadata": {
    "tags": []
   },
   "outputs": [
    {
     "name": "stdout",
     "output_type": "stream",
     "text": [
      "69/69 [==============================] - 1s 5ms/step\n",
      "time: 694 ms (started: 2023-11-28 22:18:49 -05:00)\n"
     ]
    }
   ],
   "source": [
    "predictions = ctc_model.predict(val_dataset)"
   ]
  },
  {
   "cell_type": "code",
   "execution_count": 20,
   "id": "e16b0e10-3bd4-42f5-84ff-d87cbc725765",
   "metadata": {
    "tags": []
   },
   "outputs": [
    {
     "name": "stdout",
     "output_type": "stream",
     "text": [
      "time: 2.43 ms (started: 2023-11-28 22:18:50 -05:00)\n"
     ]
    }
   ],
   "source": [
    "predicted_speakers = [next(speaker for speaker, token in name_to_token[0].items() if np.argmax(prediction) == token) for prediction in predictions]\n",
    "predicted_speaker_tokens = [np.argmax(prediction) for prediction in predictions]\n"
   ]
  },
  {
   "cell_type": "code",
   "execution_count": 21,
   "id": "a4be8f85-4265-48d4-8cc0-a597c4d66391",
   "metadata": {
    "tags": []
   },
   "outputs": [
    {
     "name": "stdout",
     "output_type": "stream",
     "text": [
      "Deep Learning F1 Score based on 42 observations\n",
      "time: 1.02 ms (started: 2023-11-28 22:18:50 -05:00)\n"
     ]
    }
   ],
   "source": [
    "ctc_speaker_zipped = list(zip(scored_speaker[train_cutoff-1:], predicted_speaker_tokens, quotation_indicators[train_cutoff:score_length]))\n",
    "filtered_ctc_speaker_zipped = [pred for pred in ctc_speaker_zipped if pred[2] != '0']\n",
    "print(f\"Deep Learning F1 Score based on {len(filtered_ctc_speaker_zipped)} observations\")\n",
    "filtered_scored_speaker, filtered_ctc_speaker, _ = zip(*filtered_ctc_speaker_zipped)"
   ]
  },
  {
   "cell_type": "code",
   "execution_count": 22,
   "id": "5a4a3ab4-0d75-4753-8590-18174d740b46",
   "metadata": {
    "tags": []
   },
   "outputs": [
    {
     "name": "stdout",
     "output_type": "stream",
     "text": [
      "CTC weighted F1 score:  0.20488625557749982\n",
      "time: 5.72 ms (started: 2023-11-28 22:18:50 -05:00)\n"
     ]
    }
   ],
   "source": [
    "weighted_f1 = f1_score(filtered_scored_speaker, filtered_ctc_speaker, average='weighted')\n",
    "print(\"CTC weighted F1 score: \",weighted_f1)"
   ]
  },
  {
   "cell_type": "code",
   "execution_count": 23,
   "id": "d49921a1-d71c-42c6-bfb2-01dbc22e380b",
   "metadata": {
    "tags": []
   },
   "outputs": [
    {
     "name": "stdout",
     "output_type": "stream",
     "text": [
      "Narrator:\n",
      "went on Gandalf,\n",
      "\n",
      "Narrator:\n",
      "I forgot to mention that with the map went a key, a small and curious key. Here it is!\n",
      "\n",
      "Narrator:\n",
      "he said, and handed to Thorin a key with a long barrel and intricate wards, made of silver.\n",
      "\n",
      "Thorin:\n",
      "Keep it safe!\n",
      "\n",
      "Narrator:\n",
      "Indeed | will,\n",
      "\n",
      "Narrator:\n",
      "said Thorin, and he fastened it upon a fine chain that hung about his neck and under his jacket.\n",
      "\n",
      "Gandalf:\n",
      "Now things begin to look more hopeful. This news alters them much for-the better. So far we have had no clear idea what to do. We thought of going East, as quiet and careful as we could, as far as the Long Lake. After that the trouble would begin.\n",
      "\n",
      "Gandalf:\n",
      "A long time before that, if | know anything about the loads East,\n",
      "\n",
      "Gandalf:\n",
      "interrupted Gandalf.\n",
      "\n",
      "Narrator:\n",
      "We might go from there up along the River Running,\n",
      "\n",
      "Narrator:\n",
      "went on Thorin taking no notice,\n",
      "\n",
      "Narrator:\n",
      "and so to the ruins of Dale-the old town in the valley there, under the shadow of the Mountain. But we none of us liked the idea of the Front Gate. The river runs right out of it through the great cliff at the South of the Mountain, and out of it comes the dragon too- far too often, unless he has changed.\n",
      "\n",
      "Thorin:\n",
      "That would be no good,\n",
      "\n",
      "Narrator:\n",
      "said the wizard,\n",
      "\n",
      "Narrator:\n",
      "not without a mighty Warrior, even a Hero. | tried to find one; but warriors are busy fighting one another in distant lands, and in this neighbourhood heroes are scarce, or simply lot to be found. Swords in these parts are mostly blunt, and axes are used for trees, and shields as cradles or dish-covers; and dragons are comfortably faroff <and therefore legendary>. That is why | settled on burglary-especially when | remembered the existence of a Side-door. And here is our little Bilbo Baggins, the burglar, the chosen and selected burglar. So now let's get on and make some plans.\n",
      "\n",
      "Thorin:\n",
      "Very well then,\n",
      "\n",
      "Gandalf:\n",
      "said Thorin,\n",
      "\n",
      "Narrator:\n",
      "supposing the burglar-expert gives us some ideas or suggestions.\n",
      "\n",
      "Narrator:\n",
      "He turned with mock-politeness to Bilbo.\n",
      "\n",
      "Narrator:\n",
      "First | should like to know a bit more about things,\n",
      "\n",
      "Gandalf:\n",
      "said he, feeling all confused and a bit shaky inside, but so far still lookishly determined to go on with things.\n",
      "\n",
      "Gandalf:\n",
      "| mean about the gold and the dragon, and all that, and how it got there, and who it belongs to, and so on and further.\n",
      "\n",
      "Narrator:\n",
      "Bless me!\n",
      "\n",
      "Gandalf:\n",
      "said Thorin,\n",
      "\n",
      "Narrator:\n",
      "haven't you got a map? and didn't you hear our song? and haven't we been talking about all this for hours?\n",
      "\n",
      "Narrator:\n",
      "All the same, | should like it all plain and clear,\n",
      "\n",
      "Gandalf:\n",
      "said he obstinately, putting on his business manner <usually reserved for people who tried to borrow money off him>, and doing his best to appear wise and prudent and professional and live up to Gandalf's recommendation.\n",
      "\n",
      "Gandalf:\n",
      "Also | should like to know about risks, out-of-pocket expenses, time required and remuneration, and so forth\n",
      "\n",
      "Narrator:\n",
      "-by which he meant:\n",
      "\n",
      "Gandalf:\n",
      "What am | going to get out of it? and am | going to come back alive?\n",
      "\n",
      "Thorin:\n",
      "O very well,\n",
      "\n",
      "Gandalf:\n",
      "said Thorin.\n",
      "\n",
      "Narrator:\n",
      "Long ago in my grandfather Thror's time our family was driven out of the far North, and came back with all their wealth and their tools to this Mountain on the map. It had been discovered by my far ancestor, Thrain the Old, but now they mined and they tunnelled and they made huger halls and greater workshops - and in addition | believe they found a good deal of gold and a great many jewels too. Anyway they grew immensely rich and famous, and my grandfather was King under the Mountain again and treated with great reverence by the mortal men, who lived to the South, and were gradually spreading up the Running River as far as the valley overshadowed by the Mountain. They built the merry town of Dale there in those days. Kings used to send for our smiths, and reward even the least skilful most richly. Fathers would beg us to take their sons as apprentices, and pay us handsomely, especially in food-supplies, which we never bothered to grow or find for ourselves. Altogether those were good days for us, and the poorest of us had money to spend and to lend, and leisure to make beautiful things just for the fun of it, not to speak of the most marvellous and magical toys, the like of which is not to be found in the world now-a-days. So my grandfather's halls became full of armour and jewels and carvings and cups, and the toy- market of Dale was the wonder of the North. --> Undoubtedly that was what brought the dragon. Dragons steal gold and jewels, you know, from men and elves and dwarves, wherever they can find them; and they guard their plunder as long as they live <which is practically forever, unless they are killed>, and never enjoy a brass ring of it. Indeed they hardly know a good bit of work from a bad, though they usually have a good notion of the current market value; and they can't make a thing for themselves, not even mend a little loose scale of their armour. There were lots of dragons in the North in those days, and gold was probably getting scarce up there, with the dwarves flying south or getting killed, and all the general waste and destruction that dragons make going from bad to worse. There was a most specially greedy, strong and wicked worm called Smaug. One day he flew up into the air and came south. The first we heard of it was a noise like a hurricane coming from the North, and the pine-trees on the Mountain creaking and cracking in the wind. Some of the dwarves who happened to be outside <I was one luckily -a fine adventurous lad in those days, always wandering about, and it saved my life that day>-well, from a good way off we saw the dragon settle on our mountain in a spout of flame. Then he came down the slopes and when he reached the woods they all went up in fire. By that time all the bells were ringing in Dale and the warriors were arming. The dwarves rushed out of their great gate; but there was the dragon waiting for them. None escaped that way. The river rushed up in steam and a fog fell on Dale, and in the fog the dragon came on them and destroyed most of the warriors-the usual unhappy story, it was only too common in those days. Then he went back and crept in through the Front Gate and routed out all the halls, and lanes, and tunnels, alleys, cellars, mansions and passages. After that there were no dwarves left alive inside, and he took all their wealth for himself. Probably, for that is the dragons' way, he has piled it all up in a great heap far inside, and sleeps on it for a bed. Later he used to crawl out of the great gate and come by night to Dale, and carry away people, especially maidens, to eat, until Dale was ruined, and all the people dead or gone. What goes on there now | don't know for certain, but | don't suppose anyone lives nearer to the Mountain than the far edge of the Long Lake now-a-days. --> The few of us that were well outside sat and wept in hiding, and cursed Smaug; and there we were unexpectedly joined by my father and my grandfather with singed beards. They looked very grim but they said very little. When | asked how they had got away, they told me to hold my tongue, and said that one day in the proper time | should know. After that we went away, and we have had to earn our livings as best we could up and down the lands, often enough sinking as low as blacksmith-work or even coalmining. But we have never forgotten our stolen treasure. And even now, when | will allow we have a good bit laid by and are not so badly off\n",
      "\n",
      "Gandalf:\n",
      "-here Thorin stroked the gold chain round his neck- <-- we still mean to get it back, and to bring our curses home to Smaugif we can.\n",
      "\n",
      "Gandalf:\n",
      "| have often wondered about my father's and my grandfather's escape. | see now they must have had a private Side-door which only they knew about. But apparently they made a map, and | should like to know how Gandalf got hold of it, and why it did not come down to me, the rightful heir.\n",
      "\n",
      "Narrator:\n",
      "| did not ‘get hold of it, | was given it,\n",
      "\n",
      "Narrator:\n",
      "said the wizard.\n",
      "\n",
      "Narrator:\n",
      "Your grandfather Thror was killed, you remember, in the mines of Moria by Azog the Goblin -\n",
      "\n",
      "Narrator:\n",
      "Curse his name, yes,\n",
      "\n",
      "Gandalf:\n",
      "said Thorin.\n",
      "\n",
      "Narrator:\n",
      "And Thrain your father went away on the twenty-first of April, a hundred years ago last Thursday, and has never been seen by you since-\n",
      "\n",
      "Thorin:\n",
      "True, true,\n",
      "\n",
      "Gandalf:\n",
      "said Thorin.\n",
      "\n",
      "Thorin:\n",
      "Well, your father gave me this to give to you; and if | have chosen my own time and way of handing it over, you can hardly blame me, considering the trouble | had to find you. Your father could not remember his own name when he gave me the paper, and he never told me yours; so on the whole | think | ought to be praised and thanked. Here it is,\n",
      "\n",
      "Narrator:\n",
      "said he handing the map to Thorin.\n",
      "\n",
      "Thorin:\n",
      "| don't understand,\n",
      "\n",
      "Narrator:\n",
      "said Thorin, and Bilbo felt he would have liked to say the same. The explanation did not seem to explain.\n",
      "\n",
      "Narrator:\n",
      "Your grandfather,\n",
      "\n",
      "Narrator:\n",
      "said the wizard slowly and grimly,\n",
      "\n",
      "Narrator:\n",
      "gave the map to his son for safety before he went to the mines of Moria. Your father went away to try his luck with the map after your grandfather was killed; and lots of adventures of a most unpleasant sort he had, but he never got near the Mountain. How he got there | don't know, but | found him a prisoner in the dungeons of the Necromancer.\n",
      "\n",
      "Narrator:\n",
      "Whatever were you doing there?\n",
      "\n",
      "Gandalf:\n",
      "asked Thorin with a shudder, and all the dwarves shivered.\n",
      "\n",
      "Narrator:\n",
      "Never you mind. | was finding things out, as usual; and a nasty dangerous business it was. Even I, Gandalf, only just escaped. | tried to save your father, but it was too late. He was witless and wandering, and had forgotten almost everything except the map and the key.\n",
      "\n",
      "Narrator:\n",
      "We have long ago paid the goblins of Moria,\n",
      "\n",
      "Gandalf:\n",
      "said Thorin;\n",
      "\n",
      "Narrator:\n",
      "we must give a thought to the Necromancer.\n",
      "\n",
      "Gandalf:\n",
      "Don't be absurd! He is an enemy quite beyond the powers of all the dwarves put together, if they could all be collected again from the four corners of the world. The one thing your father wished was for his son to read the map and use the key. The dragon and the Mountain are more than big enough tasks for you!\n",
      "\n",
      "Thorin:\n",
      "Hear, hear!\n",
      "\n",
      "Narrator:\n",
      "said Bilbo, and accidentally said it aloud,\n",
      "\n",
      "Thorin:\n",
      "Hear what?\n",
      "\n",
      "Narrator:\n",
      "they all said turning suddenly towards him, and he was so flustered that he answered\n",
      "\n",
      "Thorin:\n",
      "Hear what | have got to say!\n",
      "\n",
      "Thorin:\n",
      "What's that?\n",
      "\n",
      "Thorin:\n",
      "they asked.\n",
      "\n",
      "Gandalf:\n",
      "Well, | should say that you ought to go East and have a look round. After all there is the Side-door, and dragons must sleep sometimes, | suppose. If you sit on the doorstep long enough, | daresay you will think of something. And well, don't you know, | think we have talked long enough for one night, if you see what | mean. What about bed, and an early start, and all that? | will give you a good breakfast before you go.\n",
      "\n",
      "Narrator:\n",
      "Before we go, | suppose you mean,\n",
      "\n",
      "Gandalf:\n",
      "said Thorin.\n",
      "\n",
      "Thorin:\n",
      "Aren't you the burglar? And isn't sitting on the door-step your job, not to speak of getting inside the door? But | agree about bed and breakfast. | like eggs with my ham, when starting on a journey: fried not poached, and mind you don't break 'em.\n",
      "\n",
      "Narrator:\n",
      "After all the others had ordered their breakfasts without so much as a please <which annoyed Bilbo very much>, they all got up. The hobbit had to find room for them all, and filled all his spare-rooms and made beds on chairs and sofas, before he got them all stowed and went to his own little bed very tired and not altogether happy. One thing he did make his mind up about was not to bother to get up very early and cook everybody else's wretched breakfast. The Tookishness was wearing off, and he was not now quite so sure that he was going on any journey in the morning. As he lay in bed he could hear Thorin still humming to himself in the best bedroom next to him:\n",
      "\n",
      "time: 1.01 ms (started: 2023-11-28 22:18:50 -05:00)\n"
     ]
    }
   ],
   "source": [
    "for text, predicted_speaker in zip(predicted_speakers, orig_text[train_cutoff:score_length]):\n",
    "    print(f\"{text}:\\n{predicted_speaker}\\n\")"
   ]
  }
 ],
 "metadata": {
  "kernelspec": {
   "display_name": "Python 3",
   "language": "python",
   "name": "python3"
  },
  "language_info": {
   "codemirror_mode": {
    "name": "ipython",
    "version": 3
   },
   "file_extension": ".py",
   "mimetype": "text/x-python",
   "name": "python",
   "nbconvert_exporter": "python",
   "pygments_lexer": "ipython3",
   "version": "3.10.9"
  }
 },
 "nbformat": 4,
 "nbformat_minor": 5
}
